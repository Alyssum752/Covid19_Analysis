{
 "cells": [
  {
   "cell_type": "markdown",
   "metadata": {},
   "source": [
    "## Categorizing US counties"
   ]
  },
  {
   "cell_type": "code",
   "execution_count": 24,
   "metadata": {},
   "outputs": [],
   "source": [
    "import pandas as pd"
   ]
  },
  {
   "cell_type": "markdown",
   "metadata": {},
   "source": [
    "### Import county category data\n",
    "Source: NCHS Urban-Rural Classification Scheme for Counties\n",
    "\n",
    "##### The NCHS has developed a six-level urban-rural classification scheme for U.S. counties and county-equivalent entities.\n",
    "1. Metropolitan counties: Large central metro counties in MSA of 1 million population that: 1) contain the entire population of the largest principal city of the MSA, or 2) are completely contained within the largest principal city of the MSA, or 3) contain at least 250,000 residents of any principal city in the MSA.\n",
    "2. Large fringe metro counties in MSA of 1 million or more population that do not qualify as large central \n",
    "3. Medium metro counties in MSA of 250,000-999,999 population.\n",
    "4. Small metro counties are counties in MSAs of less than 250,000 population.\n",
    "5. Micropolitan counties in micropolitan statistical area\n",
    "6. Noncore counties not in micropolitan statistical areas\n",
    "    \n",
    "##### We can farther collapse these six categories into urban, suburban, and rural:\n",
    "- Urban: 1 (Large central metro)\n",
    "- Suburban: 2, 3, 4 (Large fringe metro counties, medium metro, and small metro counties)\n",
    "- Rural: 5 and 6 (Micropolitan counties and Noncore counties)\n",
    "    "
   ]
  },
  {
   "cell_type": "code",
   "execution_count": 25,
   "metadata": {},
   "outputs": [
    {
     "name": "stdout",
     "output_type": "stream",
     "text": [
      "(3149, 9)\n"
     ]
    },
    {
     "data": {
      "text/html": [
       "<div>\n",
       "<style scoped>\n",
       "    .dataframe tbody tr th:only-of-type {\n",
       "        vertical-align: middle;\n",
       "    }\n",
       "\n",
       "    .dataframe tbody tr th {\n",
       "        vertical-align: top;\n",
       "    }\n",
       "\n",
       "    .dataframe thead th {\n",
       "        text-align: right;\n",
       "    }\n",
       "</style>\n",
       "<table border=\"1\" class=\"dataframe\">\n",
       "  <thead>\n",
       "    <tr style=\"text-align: right;\">\n",
       "      <th></th>\n",
       "      <th>FIPS code</th>\n",
       "      <th>State Abr.</th>\n",
       "      <th>County name</th>\n",
       "      <th>CBSA title</th>\n",
       "      <th>CBSA 2012 pop</th>\n",
       "      <th>County 2012 pop</th>\n",
       "      <th>2013 code</th>\n",
       "      <th>2006 code</th>\n",
       "      <th>1990-based code</th>\n",
       "    </tr>\n",
       "  </thead>\n",
       "  <tbody>\n",
       "    <tr>\n",
       "      <th>0</th>\n",
       "      <td>1001</td>\n",
       "      <td>AL</td>\n",
       "      <td>Autauga County</td>\n",
       "      <td>Montgomery, AL</td>\n",
       "      <td>377149</td>\n",
       "      <td>55514</td>\n",
       "      <td>3</td>\n",
       "      <td>3</td>\n",
       "      <td>3</td>\n",
       "    </tr>\n",
       "    <tr>\n",
       "      <th>1</th>\n",
       "      <td>1003</td>\n",
       "      <td>AL</td>\n",
       "      <td>Baldwin County</td>\n",
       "      <td>Daphne-Fairhope-Foley, AL</td>\n",
       "      <td>190790</td>\n",
       "      <td>190790</td>\n",
       "      <td>4</td>\n",
       "      <td>5</td>\n",
       "      <td>3</td>\n",
       "    </tr>\n",
       "    <tr>\n",
       "      <th>2</th>\n",
       "      <td>1005</td>\n",
       "      <td>AL</td>\n",
       "      <td>Barbour County</td>\n",
       "      <td>NaN</td>\n",
       "      <td>.</td>\n",
       "      <td>27201</td>\n",
       "      <td>6</td>\n",
       "      <td>5</td>\n",
       "      <td>5</td>\n",
       "    </tr>\n",
       "    <tr>\n",
       "      <th>3</th>\n",
       "      <td>1007</td>\n",
       "      <td>AL</td>\n",
       "      <td>Bibb County</td>\n",
       "      <td>Birmingham-Hoover, AL</td>\n",
       "      <td>1136650</td>\n",
       "      <td>22597</td>\n",
       "      <td>2</td>\n",
       "      <td>2</td>\n",
       "      <td>6</td>\n",
       "    </tr>\n",
       "    <tr>\n",
       "      <th>4</th>\n",
       "      <td>1009</td>\n",
       "      <td>AL</td>\n",
       "      <td>Blount County</td>\n",
       "      <td>Birmingham-Hoover, AL</td>\n",
       "      <td>1136650</td>\n",
       "      <td>57826</td>\n",
       "      <td>2</td>\n",
       "      <td>2</td>\n",
       "      <td>3</td>\n",
       "    </tr>\n",
       "  </tbody>\n",
       "</table>\n",
       "</div>"
      ],
      "text/plain": [
       "   FIPS code State Abr.     County name                 CBSA title  \\\n",
       "0       1001         AL  Autauga County             Montgomery, AL   \n",
       "1       1003         AL  Baldwin County  Daphne-Fairhope-Foley, AL   \n",
       "2       1005         AL  Barbour County                        NaN   \n",
       "3       1007         AL     Bibb County      Birmingham-Hoover, AL   \n",
       "4       1009         AL   Blount County      Birmingham-Hoover, AL   \n",
       "\n",
       "  CBSA 2012 pop County 2012 pop  2013 code  2006 code 1990-based code  \n",
       "0        377149           55514          3          3               3  \n",
       "1        190790          190790          4          5               3  \n",
       "2             .           27201          6          5               5  \n",
       "3       1136650           22597          2          2               6  \n",
       "4       1136650           57826          2          2               3  "
      ]
     },
     "execution_count": 25,
     "metadata": {},
     "output_type": "execute_result"
    }
   ],
   "source": [
    "county_categories = pd.read_excel(\"NCHSURCodes2013.xlsx\")\n",
    "print(county_categories.shape)\n",
    "county_categories.head()"
   ]
  },
  {
   "cell_type": "code",
   "execution_count": 26,
   "metadata": {},
   "outputs": [],
   "source": [
    "selected = county_categories[[\"FIPS code\", \"2013 code\"]]"
   ]
  },
  {
   "cell_type": "markdown",
   "metadata": {},
   "source": [
    "### Import County-level Covid Data\n",
    "Source: NY Times (https://github.com/nytimes/covid-19-data)"
   ]
  },
  {
   "cell_type": "code",
   "execution_count": 27,
   "metadata": {},
   "outputs": [
    {
     "name": "stdout",
     "output_type": "stream",
     "text": [
      "(1160632, 6)\n"
     ]
    },
    {
     "data": {
      "text/html": [
       "<div>\n",
       "<style scoped>\n",
       "    .dataframe tbody tr th:only-of-type {\n",
       "        vertical-align: middle;\n",
       "    }\n",
       "\n",
       "    .dataframe tbody tr th {\n",
       "        vertical-align: top;\n",
       "    }\n",
       "\n",
       "    .dataframe thead th {\n",
       "        text-align: right;\n",
       "    }\n",
       "</style>\n",
       "<table border=\"1\" class=\"dataframe\">\n",
       "  <thead>\n",
       "    <tr style=\"text-align: right;\">\n",
       "      <th></th>\n",
       "      <th>date</th>\n",
       "      <th>county</th>\n",
       "      <th>state</th>\n",
       "      <th>fips</th>\n",
       "      <th>cases</th>\n",
       "      <th>deaths</th>\n",
       "    </tr>\n",
       "  </thead>\n",
       "  <tbody>\n",
       "    <tr>\n",
       "      <th>0</th>\n",
       "      <td>2020-01-21</td>\n",
       "      <td>Snohomish</td>\n",
       "      <td>Washington</td>\n",
       "      <td>53061.0</td>\n",
       "      <td>1</td>\n",
       "      <td>0.0</td>\n",
       "    </tr>\n",
       "    <tr>\n",
       "      <th>1</th>\n",
       "      <td>2020-01-22</td>\n",
       "      <td>Snohomish</td>\n",
       "      <td>Washington</td>\n",
       "      <td>53061.0</td>\n",
       "      <td>1</td>\n",
       "      <td>0.0</td>\n",
       "    </tr>\n",
       "    <tr>\n",
       "      <th>2</th>\n",
       "      <td>2020-01-23</td>\n",
       "      <td>Snohomish</td>\n",
       "      <td>Washington</td>\n",
       "      <td>53061.0</td>\n",
       "      <td>1</td>\n",
       "      <td>0.0</td>\n",
       "    </tr>\n",
       "    <tr>\n",
       "      <th>3</th>\n",
       "      <td>2020-01-24</td>\n",
       "      <td>Cook</td>\n",
       "      <td>Illinois</td>\n",
       "      <td>17031.0</td>\n",
       "      <td>1</td>\n",
       "      <td>0.0</td>\n",
       "    </tr>\n",
       "    <tr>\n",
       "      <th>4</th>\n",
       "      <td>2020-01-24</td>\n",
       "      <td>Snohomish</td>\n",
       "      <td>Washington</td>\n",
       "      <td>53061.0</td>\n",
       "      <td>1</td>\n",
       "      <td>0.0</td>\n",
       "    </tr>\n",
       "  </tbody>\n",
       "</table>\n",
       "</div>"
      ],
      "text/plain": [
       "         date     county       state     fips  cases  deaths\n",
       "0  2020-01-21  Snohomish  Washington  53061.0      1     0.0\n",
       "1  2020-01-22  Snohomish  Washington  53061.0      1     0.0\n",
       "2  2020-01-23  Snohomish  Washington  53061.0      1     0.0\n",
       "3  2020-01-24       Cook    Illinois  17031.0      1     0.0\n",
       "4  2020-01-24  Snohomish  Washington  53061.0      1     0.0"
      ]
     },
     "execution_count": 27,
     "metadata": {},
     "output_type": "execute_result"
    }
   ],
   "source": [
    "url = \"https://raw.githubusercontent.com/nytimes/covid-19-data/master/us-counties.csv\"\n",
    "\n",
    "covid_by_counties = pd.read_csv(url, error_bad_lines=False)\n",
    "\n",
    "print(covid_by_counties.shape)\n",
    "covid_by_counties.head()"
   ]
  },
  {
   "cell_type": "markdown",
   "metadata": {},
   "source": [
    "### Merging and Fixing\n",
    "\n",
    "The first merge attempt shows that three of the counties in this dataset do not come with fips county code that identifies them. They are New York City, Kansas City, and Joplin. \n",
    "\n",
    "We will fill in the fips code for New York City with that of New York County because they generally refer to the same region. \n",
    "\n",
    "Joplin (Missouri) is a city in both Jasper and Newton County. Since both are designated by the NCHS system as small metro counties and Joplin is mostly in Jasper County, we will fill in the Joplin FIPS code with the Jasper County FIPS code.\n",
    "\n",
    "Kansas City (Missouri) straddles the Kansas-Missouri state line. The bulk of it is in Jackson County, Missouri, but parts of it lie in Clay, Cass, and Platte Counties. We will fill in the Kansas City FIPS with that of Jackson County."
   ]
  },
  {
   "cell_type": "code",
   "execution_count": 28,
   "metadata": {},
   "outputs": [
    {
     "name": "stdout",
     "output_type": "stream",
     "text": [
      "(1160632, 8)\n"
     ]
    },
    {
     "data": {
      "text/html": [
       "<div>\n",
       "<style scoped>\n",
       "    .dataframe tbody tr th:only-of-type {\n",
       "        vertical-align: middle;\n",
       "    }\n",
       "\n",
       "    .dataframe tbody tr th {\n",
       "        vertical-align: top;\n",
       "    }\n",
       "\n",
       "    .dataframe thead th {\n",
       "        text-align: right;\n",
       "    }\n",
       "</style>\n",
       "<table border=\"1\" class=\"dataframe\">\n",
       "  <thead>\n",
       "    <tr style=\"text-align: right;\">\n",
       "      <th></th>\n",
       "      <th>fips</th>\n",
       "      <th>cases</th>\n",
       "      <th>deaths</th>\n",
       "      <th>FIPS code</th>\n",
       "      <th>2013 code</th>\n",
       "    </tr>\n",
       "    <tr>\n",
       "      <th>county</th>\n",
       "      <th></th>\n",
       "      <th></th>\n",
       "      <th></th>\n",
       "      <th></th>\n",
       "      <th></th>\n",
       "    </tr>\n",
       "  </thead>\n",
       "  <tbody>\n",
       "    <tr>\n",
       "      <th>Joplin</th>\n",
       "      <td>0.0</td>\n",
       "      <td>732534</td>\n",
       "      <td>13820.0</td>\n",
       "      <td>0.0</td>\n",
       "      <td>0.0</td>\n",
       "    </tr>\n",
       "    <tr>\n",
       "      <th>Kansas City</th>\n",
       "      <td>0.0</td>\n",
       "      <td>5686326</td>\n",
       "      <td>71182.0</td>\n",
       "      <td>0.0</td>\n",
       "      <td>0.0</td>\n",
       "    </tr>\n",
       "    <tr>\n",
       "      <th>New York City</th>\n",
       "      <td>0.0</td>\n",
       "      <td>121106975</td>\n",
       "      <td>8357276.0</td>\n",
       "      <td>0.0</td>\n",
       "      <td>0.0</td>\n",
       "    </tr>\n",
       "    <tr>\n",
       "      <th>Unknown</th>\n",
       "      <td>0.0</td>\n",
       "      <td>13118064</td>\n",
       "      <td>550794.0</td>\n",
       "      <td>0.0</td>\n",
       "      <td>0.0</td>\n",
       "    </tr>\n",
       "  </tbody>\n",
       "</table>\n",
       "</div>"
      ],
      "text/plain": [
       "               fips      cases     deaths  FIPS code  2013 code\n",
       "county                                                         \n",
       "Joplin          0.0     732534    13820.0        0.0        0.0\n",
       "Kansas City     0.0    5686326    71182.0        0.0        0.0\n",
       "New York City   0.0  121106975  8357276.0        0.0        0.0\n",
       "Unknown         0.0   13118064   550794.0        0.0        0.0"
      ]
     },
     "execution_count": 28,
     "metadata": {},
     "output_type": "execute_result"
    }
   ],
   "source": [
    "with_categories_left_1 = pd.merge(covid_by_counties, selected, left_on = \"fips\", right_on = \"FIPS code\", how = \"left\")\n",
    "print(with_categories_left_1.shape)\n",
    "with_categories_left_1[with_categories_left_1[\"fips\"].isnull()].groupby(\"county\").sum()"
   ]
  },
  {
   "cell_type": "code",
   "execution_count": 29,
   "metadata": {},
   "outputs": [],
   "source": [
    "covid_by_counties.loc[covid_by_counties[\"county\"] == \"New York City\", \"fips\"] = 36061\n",
    "covid_by_counties.loc[covid_by_counties[\"county\"] == \"Joplin\", \"fips\"] = 29097\n",
    "covid_by_counties.loc[covid_by_counties[\"county\"] == \"Kansas City\", \"fips\"] = 29095"
   ]
  },
  {
   "cell_type": "code",
   "execution_count": 30,
   "metadata": {},
   "outputs": [
    {
     "name": "stdout",
     "output_type": "stream",
     "text": [
      "(1160632, 8)\n"
     ]
    },
    {
     "data": {
      "text/html": [
       "<div>\n",
       "<style scoped>\n",
       "    .dataframe tbody tr th:only-of-type {\n",
       "        vertical-align: middle;\n",
       "    }\n",
       "\n",
       "    .dataframe tbody tr th {\n",
       "        vertical-align: top;\n",
       "    }\n",
       "\n",
       "    .dataframe thead th {\n",
       "        text-align: right;\n",
       "    }\n",
       "</style>\n",
       "<table border=\"1\" class=\"dataframe\">\n",
       "  <thead>\n",
       "    <tr style=\"text-align: right;\">\n",
       "      <th></th>\n",
       "      <th>fips</th>\n",
       "      <th>cases</th>\n",
       "      <th>deaths</th>\n",
       "      <th>FIPS code</th>\n",
       "      <th>2013 code</th>\n",
       "    </tr>\n",
       "    <tr>\n",
       "      <th>county</th>\n",
       "      <th></th>\n",
       "      <th></th>\n",
       "      <th></th>\n",
       "      <th></th>\n",
       "      <th></th>\n",
       "    </tr>\n",
       "  </thead>\n",
       "  <tbody>\n",
       "    <tr>\n",
       "      <th>Unknown</th>\n",
       "      <td>0.0</td>\n",
       "      <td>13118064</td>\n",
       "      <td>550794.0</td>\n",
       "      <td>0.0</td>\n",
       "      <td>0.0</td>\n",
       "    </tr>\n",
       "  </tbody>\n",
       "</table>\n",
       "</div>"
      ],
      "text/plain": [
       "         fips     cases    deaths  FIPS code  2013 code\n",
       "county                                                 \n",
       "Unknown   0.0  13118064  550794.0        0.0        0.0"
      ]
     },
     "execution_count": 30,
     "metadata": {},
     "output_type": "execute_result"
    }
   ],
   "source": [
    "with_categories_left_2 = pd.merge(covid_by_counties, selected, left_on = \"fips\", right_on = \"FIPS code\", how = \"left\")\n",
    "print(with_categories_left_2.shape)\n",
    "with_categories_left_2[with_categories_left_2[\"fips\"].isnull()].groupby(\"county\").sum()"
   ]
  },
  {
   "cell_type": "code",
   "execution_count": 31,
   "metadata": {},
   "outputs": [
    {
     "name": "stdout",
     "output_type": "stream",
     "text": [
      "9593\n",
      "0.008265324409459674\n",
      "(53, 5)\n",
      "(54, 5)\n"
     ]
    }
   ],
   "source": [
    "print(with_categories_left_2[with_categories_left_2[\"fips\"].isnull()].shape[0])\n",
    "print(with_categories_left_2[with_categories_left_2[\"fips\"].isnull()].shape[0]/with_categories_left_2.shape[0])\n",
    "print(with_categories_left_2[with_categories_left_2[\"fips\"].isnull()].groupby(\"state\").sum().shape)\n",
    "print(with_categories_left_2[with_categories_left_2[\"fips\"].isnull() == False].groupby(\"state\").sum().shape)"
   ]
  },
  {
   "cell_type": "markdown",
   "metadata": {},
   "source": [
    "After fixing the fips codes above, we are only missing county information on 9257 entries in the 1118423-entry dataset. That is only 0.83% of the data. We also check to make sure all 50 states are represented in our dataset."
   ]
  },
  {
   "cell_type": "markdown",
   "metadata": {},
   "source": [
    "### Dividing into Urban, Suburban, and Rural"
   ]
  },
  {
   "cell_type": "code",
   "execution_count": 32,
   "metadata": {},
   "outputs": [],
   "source": [
    "with_categories_left_2.loc[with_categories_left_2[\"2013 code\"] == 1, \"category\"] = \"Urban\"\n",
    "with_categories_left_2.loc[with_categories_left_2[\"2013 code\"] == 2, \"category\"] = \"Suburban\"\n",
    "with_categories_left_2.loc[with_categories_left_2[\"2013 code\"] == 3, \"category\"] = \"Suburban\"\n",
    "with_categories_left_2.loc[with_categories_left_2[\"2013 code\"] == 4, \"category\"] = \"Suburban\"\n",
    "with_categories_left_2.loc[with_categories_left_2[\"2013 code\"] == 5, \"category\"] = \"Rural\"\n",
    "with_categories_left_2.loc[with_categories_left_2[\"2013 code\"] == 6, \"category\"] = \"Rural\""
   ]
  },
  {
   "cell_type": "code",
   "execution_count": 33,
   "metadata": {},
   "outputs": [
    {
     "data": {
      "text/html": [
       "<div>\n",
       "<style scoped>\n",
       "    .dataframe tbody tr th:only-of-type {\n",
       "        vertical-align: middle;\n",
       "    }\n",
       "\n",
       "    .dataframe tbody tr th {\n",
       "        vertical-align: top;\n",
       "    }\n",
       "\n",
       "    .dataframe thead th {\n",
       "        text-align: right;\n",
       "    }\n",
       "</style>\n",
       "<table border=\"1\" class=\"dataframe\">\n",
       "  <thead>\n",
       "    <tr style=\"text-align: right;\">\n",
       "      <th></th>\n",
       "      <th>date</th>\n",
       "      <th>county</th>\n",
       "      <th>state</th>\n",
       "      <th>fips</th>\n",
       "      <th>cases</th>\n",
       "      <th>deaths</th>\n",
       "      <th>FIPS code</th>\n",
       "      <th>2013 code</th>\n",
       "      <th>category</th>\n",
       "    </tr>\n",
       "  </thead>\n",
       "  <tbody>\n",
       "    <tr>\n",
       "      <th>0</th>\n",
       "      <td>2020-01-21</td>\n",
       "      <td>Snohomish</td>\n",
       "      <td>Washington</td>\n",
       "      <td>53061.0</td>\n",
       "      <td>1</td>\n",
       "      <td>0.0</td>\n",
       "      <td>53061.0</td>\n",
       "      <td>2.0</td>\n",
       "      <td>Suburban</td>\n",
       "    </tr>\n",
       "    <tr>\n",
       "      <th>1</th>\n",
       "      <td>2020-01-22</td>\n",
       "      <td>Snohomish</td>\n",
       "      <td>Washington</td>\n",
       "      <td>53061.0</td>\n",
       "      <td>1</td>\n",
       "      <td>0.0</td>\n",
       "      <td>53061.0</td>\n",
       "      <td>2.0</td>\n",
       "      <td>Suburban</td>\n",
       "    </tr>\n",
       "    <tr>\n",
       "      <th>2</th>\n",
       "      <td>2020-01-23</td>\n",
       "      <td>Snohomish</td>\n",
       "      <td>Washington</td>\n",
       "      <td>53061.0</td>\n",
       "      <td>1</td>\n",
       "      <td>0.0</td>\n",
       "      <td>53061.0</td>\n",
       "      <td>2.0</td>\n",
       "      <td>Suburban</td>\n",
       "    </tr>\n",
       "    <tr>\n",
       "      <th>3</th>\n",
       "      <td>2020-01-24</td>\n",
       "      <td>Cook</td>\n",
       "      <td>Illinois</td>\n",
       "      <td>17031.0</td>\n",
       "      <td>1</td>\n",
       "      <td>0.0</td>\n",
       "      <td>17031.0</td>\n",
       "      <td>1.0</td>\n",
       "      <td>Urban</td>\n",
       "    </tr>\n",
       "    <tr>\n",
       "      <th>4</th>\n",
       "      <td>2020-01-24</td>\n",
       "      <td>Snohomish</td>\n",
       "      <td>Washington</td>\n",
       "      <td>53061.0</td>\n",
       "      <td>1</td>\n",
       "      <td>0.0</td>\n",
       "      <td>53061.0</td>\n",
       "      <td>2.0</td>\n",
       "      <td>Suburban</td>\n",
       "    </tr>\n",
       "  </tbody>\n",
       "</table>\n",
       "</div>"
      ],
      "text/plain": [
       "         date     county       state     fips  cases  deaths  FIPS code  \\\n",
       "0  2020-01-21  Snohomish  Washington  53061.0      1     0.0    53061.0   \n",
       "1  2020-01-22  Snohomish  Washington  53061.0      1     0.0    53061.0   \n",
       "2  2020-01-23  Snohomish  Washington  53061.0      1     0.0    53061.0   \n",
       "3  2020-01-24       Cook    Illinois  17031.0      1     0.0    17031.0   \n",
       "4  2020-01-24  Snohomish  Washington  53061.0      1     0.0    53061.0   \n",
       "\n",
       "   2013 code  category  \n",
       "0        2.0  Suburban  \n",
       "1        2.0  Suburban  \n",
       "2        2.0  Suburban  \n",
       "3        1.0     Urban  \n",
       "4        2.0  Suburban  "
      ]
     },
     "execution_count": 33,
     "metadata": {},
     "output_type": "execute_result"
    }
   ],
   "source": [
    "with_categories_left_2.head()"
   ]
  },
  {
   "cell_type": "code",
   "execution_count": 38,
   "metadata": {},
   "outputs": [],
   "source": [
    "# fips will be string version of fips code with zero padding in front.\n",
    "no_na = with_categories_left_2[with_categories_left_2[\"fips\"].isnull() == False]\n",
    "no_na = no_na.astype({\"fips\": \"float64\"})\n",
    "no_na = no_na.astype({\"fips\": \"int64\"})\n",
    "no_na = no_na.astype({\"fips\": \"string\"})\n",
    "no_na[\"fips\"] = no_na[\"fips\"].str.zfill(5)\n",
    "\n",
    "no_na = no_na.astype({\"date\": \"string\"})"
   ]
  },
  {
   "cell_type": "markdown",
   "metadata": {},
   "source": [
    "### Data visualization"
   ]
  },
  {
   "cell_type": "code",
   "execution_count": null,
   "metadata": {},
   "outputs": [],
   "source": []
  }
 ],
 "metadata": {
  "kernelspec": {
   "display_name": "Python 3",
   "language": "python",
   "name": "python3"
  },
  "language_info": {
   "codemirror_mode": {
    "name": "ipython",
    "version": 3
   },
   "file_extension": ".py",
   "mimetype": "text/x-python",
   "name": "python",
   "nbconvert_exporter": "python",
   "pygments_lexer": "ipython3",
   "version": "3.8.5"
  }
 },
 "nbformat": 4,
 "nbformat_minor": 4
}
